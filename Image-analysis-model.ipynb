{
  "metadata": {
    "kernelspec": {
      "display_name": "Python 3",
      "name": "python3"
    },
    "language_info": {
      "name": "python",
      "version": "3.7.6",
      "mimetype": "text/x-python",
      "codemirror_mode": {
        "name": "ipython",
        "version": 3
      },
      "pygments_lexer": "ipython3",
      "nbconvert_exporter": "python",
      "file_extension": ".py"
    },
    "kaggle": {
      "accelerator": "gpu",
      "dataSources": [
        {
          "sourceId": 39603,
          "sourceType": "datasetVersion",
          "datasetId": 31050
        },
        {
          "sourceId": 1553494,
          "sourceType": "datasetVersion",
          "datasetId": 916879
        }
      ],
      "dockerImageVersionId": 30017,
      "isInternetEnabled": false,
      "language": "python",
      "sourceType": "notebook",
      "isGpuEnabled": true
    },
    "colab": {
      "provenance": [],
      "gpuType": "T4"
    },
    "accelerator": "GPU"
  },
  "nbformat_minor": 0,
  "nbformat": 4,
  "cells": [
    {
      "source": [
        "\n",
        "\n",
        "import os\n",
        "import sys\n",
        "from tempfile import NamedTemporaryFile\n",
        "from urllib.request import urlopen\n",
        "from urllib.parse import unquote, urlparse\n",
        "from urllib.error import HTTPError\n",
        "from zipfile import ZipFile\n",
        "import tarfile\n",
        "import shutil\n",
        "\n",
        "CHUNK_SIZE = 40960\n",
        "DATA_SOURCE_MAPPING = 'facial-expression:https%3A%2F%2Fstorage.googleapis.com%2Fkaggle-data-sets%2F31050%2F39603%2Fbundle%2Farchive.zip%3FX-Goog-Algorithm%3DGOOG4-RSA-SHA256%26X-Goog-Credential%3Dgcp-kaggle-com%2540kaggle-161607.iam.gserviceaccount.com%252F20240202%252Fauto%252Fstorage%252Fgoog4_request%26X-Goog-Date%3D20240202T101838Z%26X-Goog-Expires%3D259200%26X-Goog-SignedHeaders%3Dhost%26X-Goog-Signature%3D416015a3954244ce735ae947224fbc723a858a6f88f8842debc132556201b22066e5ae2cc7cc7efcde661c9c27e3fc8d23f56852b3a1d7b1ddf8cbbc58c0bbdb2a3e66b8e59c8190e556a5281508a3b92e66510f0b8ffcdc96a1472ecb183cfde4d7f8aaf7d7e803d0d2955431c538e2ce0347e28c9852b400eb47e3c651e6f668e3f3d7ac08df14833603b1878c546c97d90fb1f5828b8da80f0ff65634f075ff99e1e5d3df994ff970160dc16fb144ce6a321c7de0c8891d5e5f5f842d1d9340e761baa344d4dd0b51d4b50ab7a6139c743fda3c058c7b35b2949b78a162a3246729961a65206a6a94346f0c39af1fd20153964fbdce9f20257b4f9aaa68c9'\n",
        "\n",
        "KAGGLE_INPUT_PATH='/kaggle/input'\n",
        "KAGGLE_WORKING_PATH='/kaggle/working'\n",
        "KAGGLE_SYMLINK='kaggle'\n",
        "\n",
        "!umount /kaggle/input/ 2> /dev/null\n",
        "shutil.rmtree('/kaggle/input', ignore_errors=True)\n",
        "os.makedirs(KAGGLE_INPUT_PATH, 0o777, exist_ok=True)\n",
        "os.makedirs(KAGGLE_WORKING_PATH, 0o777, exist_ok=True)\n",
        "\n",
        "try:\n",
        "  os.symlink(KAGGLE_INPUT_PATH, os.path.join(\"..\", 'input'), target_is_directory=True)\n",
        "except FileExistsError:\n",
        "  pass\n",
        "try:\n",
        "  os.symlink(KAGGLE_WORKING_PATH, os.path.join(\"..\", 'working'), target_is_directory=True)\n",
        "except FileExistsError:\n",
        "  pass\n",
        "\n",
        "for data_source_mapping in DATA_SOURCE_MAPPING.split(','):\n",
        "    directory, download_url_encoded = data_source_mapping.split(':')\n",
        "    download_url = unquote(download_url_encoded)\n",
        "    filename = urlparse(download_url).path\n",
        "    destination_path = os.path.join(KAGGLE_INPUT_PATH, directory)\n",
        "    try:\n",
        "        with urlopen(download_url) as fileres, NamedTemporaryFile() as tfile:\n",
        "            total_length = fileres.headers['content-length']\n",
        "            print(f'Downloading {directory}, {total_length} bytes compressed')\n",
        "            dl = 0\n",
        "            data = fileres.read(CHUNK_SIZE)\n",
        "            while len(data) > 0:\n",
        "                dl += len(data)\n",
        "                tfile.write(data)\n",
        "                done = int(50 * dl / int(total_length))\n",
        "                sys.stdout.write(f\"\\r[{'=' * done}{' ' * (50-done)}] {dl} bytes downloaded\")\n",
        "                sys.stdout.flush()\n",
        "                data = fileres.read(CHUNK_SIZE)\n",
        "            if filename.endswith('.zip'):\n",
        "              with ZipFile(tfile) as zfile:\n",
        "                zfile.extractall(destination_path)\n",
        "            else:\n",
        "              with tarfile.open(tfile.name) as tarfile:\n",
        "                tarfile.extractall(destination_path)\n",
        "            print(f'\\nDownloaded and uncompressed: {directory}')\n",
        "    except HTTPError as e:\n",
        "        print(f'Failed to load (likely expired) {download_url} to path {destination_path}')\n",
        "        continue\n",
        "    except OSError as e:\n",
        "        print(f'Failed to load {download_url} to path {destination_path}')\n",
        "        continue\n",
        "\n",
        "print('Data source import complete.')\n"
      ],
      "metadata": {
        "id": "eUvzp5oZU-d6",
        "outputId": "f7cc2980-cf2f-45ec-d058-d6d283619026",
        "colab": {
          "base_uri": "https://localhost:8080/"
        }
      },
      "cell_type": "code",
      "outputs": [
        {
          "output_type": "stream",
          "name": "stdout",
          "text": [
            "Downloading facial-expression, 202559978 bytes compressed\n",
            "[==================================================] 202559978 bytes downloaded\n",
            "Downloaded and uncompressed: facial-expression\n",
            "Data source import complete.\n"
          ]
        }
      ],
      "execution_count": null
    },
    {
      "cell_type": "code",
      "source": [
        "\n",
        "import numpy as np\n",
        "import pandas as pd\n",
        "import cv2\n",
        "\n"
      ],
      "metadata": {
        "_uuid": "8f2839f25d086af736a60e9eeb907d3b93b6e0e5",
        "_cell_guid": "b1076dfc-b9ad-4769-8c92-a6c4dae69d19",
        "execution": {
          "iopub.status.busy": "2024-02-02T10:07:49.25664Z",
          "iopub.execute_input": "2024-02-02T10:07:49.257035Z",
          "iopub.status.idle": "2024-02-02T10:07:49.261867Z",
          "shell.execute_reply.started": "2024-02-02T10:07:49.257001Z",
          "shell.execute_reply": "2024-02-02T10:07:49.260903Z"
        },
        "trusted": true,
        "id": "3_vbC3ucU-d9"
      },
      "execution_count": null,
      "outputs": []
    },
    {
      "cell_type": "code",
      "source": [
        "df = pd.read_csv('../input/facial-expression/fer2013.csv')"
      ],
      "metadata": {
        "_uuid": "d629ff2d2480ee46fbb7e2d37f6b5fab8052498a",
        "_cell_guid": "79c7e3d0-c299-4dcb-8224-4455121ee9b0",
        "trusted": true,
        "id": "mK1VWP92U-d9"
      },
      "execution_count": null,
      "outputs": []
    },
    {
      "cell_type": "code",
      "source": [
        "df.head()"
      ],
      "metadata": {
        "trusted": true,
        "id": "NsIPsvWvU-d9",
        "outputId": "fbba8141-360a-4985-929d-40f0e71ea435",
        "colab": {
          "base_uri": "https://localhost:8080/",
          "height": 206
        }
      },
      "execution_count": null,
      "outputs": [
        {
          "output_type": "execute_result",
          "data": {
            "text/plain": [
              "   emotion                                             pixels     Usage\n",
              "0        0  70 80 82 72 58 58 60 63 54 58 60 48 89 115 121...  Training\n",
              "1        0  151 150 147 155 148 133 111 140 170 174 182 15...  Training\n",
              "2        2  231 212 156 164 174 138 161 173 182 200 106 38...  Training\n",
              "3        4  24 32 36 30 32 23 19 20 30 41 21 22 32 34 21 1...  Training\n",
              "4        6  4 0 0 0 0 0 0 0 0 0 0 0 3 15 23 28 48 50 58 84...  Training"
            ],
            "text/html": [
              "\n",
              "  <div id=\"df-77f676e2-191f-4324-a101-1e78f10f6a83\" class=\"colab-df-container\">\n",
              "    <div>\n",
              "<style scoped>\n",
              "    .dataframe tbody tr th:only-of-type {\n",
              "        vertical-align: middle;\n",
              "    }\n",
              "\n",
              "    .dataframe tbody tr th {\n",
              "        vertical-align: top;\n",
              "    }\n",
              "\n",
              "    .dataframe thead th {\n",
              "        text-align: right;\n",
              "    }\n",
              "</style>\n",
              "<table border=\"1\" class=\"dataframe\">\n",
              "  <thead>\n",
              "    <tr style=\"text-align: right;\">\n",
              "      <th></th>\n",
              "      <th>emotion</th>\n",
              "      <th>pixels</th>\n",
              "      <th>Usage</th>\n",
              "    </tr>\n",
              "  </thead>\n",
              "  <tbody>\n",
              "    <tr>\n",
              "      <th>0</th>\n",
              "      <td>0</td>\n",
              "      <td>70 80 82 72 58 58 60 63 54 58 60 48 89 115 121...</td>\n",
              "      <td>Training</td>\n",
              "    </tr>\n",
              "    <tr>\n",
              "      <th>1</th>\n",
              "      <td>0</td>\n",
              "      <td>151 150 147 155 148 133 111 140 170 174 182 15...</td>\n",
              "      <td>Training</td>\n",
              "    </tr>\n",
              "    <tr>\n",
              "      <th>2</th>\n",
              "      <td>2</td>\n",
              "      <td>231 212 156 164 174 138 161 173 182 200 106 38...</td>\n",
              "      <td>Training</td>\n",
              "    </tr>\n",
              "    <tr>\n",
              "      <th>3</th>\n",
              "      <td>4</td>\n",
              "      <td>24 32 36 30 32 23 19 20 30 41 21 22 32 34 21 1...</td>\n",
              "      <td>Training</td>\n",
              "    </tr>\n",
              "    <tr>\n",
              "      <th>4</th>\n",
              "      <td>6</td>\n",
              "      <td>4 0 0 0 0 0 0 0 0 0 0 0 3 15 23 28 48 50 58 84...</td>\n",
              "      <td>Training</td>\n",
              "    </tr>\n",
              "  </tbody>\n",
              "</table>\n",
              "</div>\n",
              "    <div class=\"colab-df-buttons\">\n",
              "\n",
              "  <div class=\"colab-df-container\">\n",
              "    <button class=\"colab-df-convert\" onclick=\"convertToInteractive('df-77f676e2-191f-4324-a101-1e78f10f6a83')\"\n",
              "            title=\"Convert this dataframe to an interactive table.\"\n",
              "            style=\"display:none;\">\n",
              "\n",
              "  <svg xmlns=\"http://www.w3.org/2000/svg\" height=\"24px\" viewBox=\"0 -960 960 960\">\n",
              "    <path d=\"M120-120v-720h720v720H120Zm60-500h600v-160H180v160Zm220 220h160v-160H400v160Zm0 220h160v-160H400v160ZM180-400h160v-160H180v160Zm440 0h160v-160H620v160ZM180-180h160v-160H180v160Zm440 0h160v-160H620v160Z\"/>\n",
              "  </svg>\n",
              "    </button>\n",
              "\n",
              "  <style>\n",
              "    .colab-df-container {\n",
              "      display:flex;\n",
              "      gap: 12px;\n",
              "    }\n",
              "\n",
              "    .colab-df-convert {\n",
              "      background-color: #E8F0FE;\n",
              "      border: none;\n",
              "      border-radius: 50%;\n",
              "      cursor: pointer;\n",
              "      display: none;\n",
              "      fill: #1967D2;\n",
              "      height: 32px;\n",
              "      padding: 0 0 0 0;\n",
              "      width: 32px;\n",
              "    }\n",
              "\n",
              "    .colab-df-convert:hover {\n",
              "      background-color: #E2EBFA;\n",
              "      box-shadow: 0px 1px 2px rgba(60, 64, 67, 0.3), 0px 1px 3px 1px rgba(60, 64, 67, 0.15);\n",
              "      fill: #174EA6;\n",
              "    }\n",
              "\n",
              "    .colab-df-buttons div {\n",
              "      margin-bottom: 4px;\n",
              "    }\n",
              "\n",
              "    [theme=dark] .colab-df-convert {\n",
              "      background-color: #3B4455;\n",
              "      fill: #D2E3FC;\n",
              "    }\n",
              "\n",
              "    [theme=dark] .colab-df-convert:hover {\n",
              "      background-color: #434B5C;\n",
              "      box-shadow: 0px 1px 3px 1px rgba(0, 0, 0, 0.15);\n",
              "      filter: drop-shadow(0px 1px 2px rgba(0, 0, 0, 0.3));\n",
              "      fill: #FFFFFF;\n",
              "    }\n",
              "  </style>\n",
              "\n",
              "    <script>\n",
              "      const buttonEl =\n",
              "        document.querySelector('#df-77f676e2-191f-4324-a101-1e78f10f6a83 button.colab-df-convert');\n",
              "      buttonEl.style.display =\n",
              "        google.colab.kernel.accessAllowed ? 'block' : 'none';\n",
              "\n",
              "      async function convertToInteractive(key) {\n",
              "        const element = document.querySelector('#df-77f676e2-191f-4324-a101-1e78f10f6a83');\n",
              "        const dataTable =\n",
              "          await google.colab.kernel.invokeFunction('convertToInteractive',\n",
              "                                                    [key], {});\n",
              "        if (!dataTable) return;\n",
              "\n",
              "        const docLinkHtml = 'Like what you see? Visit the ' +\n",
              "          '<a target=\"_blank\" href=https://colab.research.google.com/notebooks/data_table.ipynb>data table notebook</a>'\n",
              "          + ' to learn more about interactive tables.';\n",
              "        element.innerHTML = '';\n",
              "        dataTable['output_type'] = 'display_data';\n",
              "        await google.colab.output.renderOutput(dataTable, element);\n",
              "        const docLink = document.createElement('div');\n",
              "        docLink.innerHTML = docLinkHtml;\n",
              "        element.appendChild(docLink);\n",
              "      }\n",
              "    </script>\n",
              "  </div>\n",
              "\n",
              "\n",
              "<div id=\"df-9e80beda-53f6-4b72-a6d4-385000d316e4\">\n",
              "  <button class=\"colab-df-quickchart\" onclick=\"quickchart('df-9e80beda-53f6-4b72-a6d4-385000d316e4')\"\n",
              "            title=\"Suggest charts\"\n",
              "            style=\"display:none;\">\n",
              "\n",
              "<svg xmlns=\"http://www.w3.org/2000/svg\" height=\"24px\"viewBox=\"0 0 24 24\"\n",
              "     width=\"24px\">\n",
              "    <g>\n",
              "        <path d=\"M19 3H5c-1.1 0-2 .9-2 2v14c0 1.1.9 2 2 2h14c1.1 0 2-.9 2-2V5c0-1.1-.9-2-2-2zM9 17H7v-7h2v7zm4 0h-2V7h2v10zm4 0h-2v-4h2v4z\"/>\n",
              "    </g>\n",
              "</svg>\n",
              "  </button>\n",
              "\n",
              "<style>\n",
              "  .colab-df-quickchart {\n",
              "      --bg-color: #E8F0FE;\n",
              "      --fill-color: #1967D2;\n",
              "      --hover-bg-color: #E2EBFA;\n",
              "      --hover-fill-color: #174EA6;\n",
              "      --disabled-fill-color: #AAA;\n",
              "      --disabled-bg-color: #DDD;\n",
              "  }\n",
              "\n",
              "  [theme=dark] .colab-df-quickchart {\n",
              "      --bg-color: #3B4455;\n",
              "      --fill-color: #D2E3FC;\n",
              "      --hover-bg-color: #434B5C;\n",
              "      --hover-fill-color: #FFFFFF;\n",
              "      --disabled-bg-color: #3B4455;\n",
              "      --disabled-fill-color: #666;\n",
              "  }\n",
              "\n",
              "  .colab-df-quickchart {\n",
              "    background-color: var(--bg-color);\n",
              "    border: none;\n",
              "    border-radius: 50%;\n",
              "    cursor: pointer;\n",
              "    display: none;\n",
              "    fill: var(--fill-color);\n",
              "    height: 32px;\n",
              "    padding: 0;\n",
              "    width: 32px;\n",
              "  }\n",
              "\n",
              "  .colab-df-quickchart:hover {\n",
              "    background-color: var(--hover-bg-color);\n",
              "    box-shadow: 0 1px 2px rgba(60, 64, 67, 0.3), 0 1px 3px 1px rgba(60, 64, 67, 0.15);\n",
              "    fill: var(--button-hover-fill-color);\n",
              "  }\n",
              "\n",
              "  .colab-df-quickchart-complete:disabled,\n",
              "  .colab-df-quickchart-complete:disabled:hover {\n",
              "    background-color: var(--disabled-bg-color);\n",
              "    fill: var(--disabled-fill-color);\n",
              "    box-shadow: none;\n",
              "  }\n",
              "\n",
              "  .colab-df-spinner {\n",
              "    border: 2px solid var(--fill-color);\n",
              "    border-color: transparent;\n",
              "    border-bottom-color: var(--fill-color);\n",
              "    animation:\n",
              "      spin 1s steps(1) infinite;\n",
              "  }\n",
              "\n",
              "  @keyframes spin {\n",
              "    0% {\n",
              "      border-color: transparent;\n",
              "      border-bottom-color: var(--fill-color);\n",
              "      border-left-color: var(--fill-color);\n",
              "    }\n",
              "    20% {\n",
              "      border-color: transparent;\n",
              "      border-left-color: var(--fill-color);\n",
              "      border-top-color: var(--fill-color);\n",
              "    }\n",
              "    30% {\n",
              "      border-color: transparent;\n",
              "      border-left-color: var(--fill-color);\n",
              "      border-top-color: var(--fill-color);\n",
              "      border-right-color: var(--fill-color);\n",
              "    }\n",
              "    40% {\n",
              "      border-color: transparent;\n",
              "      border-right-color: var(--fill-color);\n",
              "      border-top-color: var(--fill-color);\n",
              "    }\n",
              "    60% {\n",
              "      border-color: transparent;\n",
              "      border-right-color: var(--fill-color);\n",
              "    }\n",
              "    80% {\n",
              "      border-color: transparent;\n",
              "      border-right-color: var(--fill-color);\n",
              "      border-bottom-color: var(--fill-color);\n",
              "    }\n",
              "    90% {\n",
              "      border-color: transparent;\n",
              "      border-bottom-color: var(--fill-color);\n",
              "    }\n",
              "  }\n",
              "</style>\n",
              "\n",
              "  <script>\n",
              "    async function quickchart(key) {\n",
              "      const quickchartButtonEl =\n",
              "        document.querySelector('#' + key + ' button');\n",
              "      quickchartButtonEl.disabled = true;  // To prevent multiple clicks.\n",
              "      quickchartButtonEl.classList.add('colab-df-spinner');\n",
              "      try {\n",
              "        const charts = await google.colab.kernel.invokeFunction(\n",
              "            'suggestCharts', [key], {});\n",
              "      } catch (error) {\n",
              "        console.error('Error during call to suggestCharts:', error);\n",
              "      }\n",
              "      quickchartButtonEl.classList.remove('colab-df-spinner');\n",
              "      quickchartButtonEl.classList.add('colab-df-quickchart-complete');\n",
              "    }\n",
              "    (() => {\n",
              "      let quickchartButtonEl =\n",
              "        document.querySelector('#df-9e80beda-53f6-4b72-a6d4-385000d316e4 button');\n",
              "      quickchartButtonEl.style.display =\n",
              "        google.colab.kernel.accessAllowed ? 'block' : 'none';\n",
              "    })();\n",
              "  </script>\n",
              "</div>\n",
              "\n",
              "    </div>\n",
              "  </div>\n"
            ]
          },
          "metadata": {},
          "execution_count": 4
        }
      ]
    },
    {
      "cell_type": "code",
      "source": [
        "len(df.iloc[0]['pixels'].split())\n",
        "# 48 * 48"
      ],
      "metadata": {
        "trusted": true,
        "id": "cxPP3E5XU-d-",
        "outputId": "a56be2fe-ce54-4360-b223-e55767d9daed",
        "colab": {
          "base_uri": "https://localhost:8080/"
        }
      },
      "execution_count": null,
      "outputs": [
        {
          "output_type": "execute_result",
          "data": {
            "text/plain": [
              "2304"
            ]
          },
          "metadata": {},
          "execution_count": 5
        }
      ]
    },
    {
      "cell_type": "code",
      "source": [
        "label_map = ['Anger', 'Neutral', 'Fear', 'Happy', 'Sad', 'Surprise']"
      ],
      "metadata": {
        "trusted": true,
        "id": "I-rkgn1AU-d-"
      },
      "execution_count": null,
      "outputs": []
    },
    {
      "cell_type": "code",
      "source": [
        "import matplotlib.pyplot as plt"
      ],
      "metadata": {
        "trusted": true,
        "id": "ek0Jq4AjU-d-"
      },
      "execution_count": null,
      "outputs": []
    },
    {
      "cell_type": "code",
      "source": [
        "img = df.iloc[0]['pixels'].split()"
      ],
      "metadata": {
        "trusted": true,
        "id": "mV0N9XJxU-d-"
      },
      "execution_count": null,
      "outputs": []
    },
    {
      "cell_type": "code",
      "source": [
        "img = [int(i) for i in img]"
      ],
      "metadata": {
        "trusted": true,
        "id": "lPiVIpWhU-d-"
      },
      "execution_count": null,
      "outputs": []
    },
    {
      "cell_type": "code",
      "source": [
        "type(img[0])"
      ],
      "metadata": {
        "trusted": true,
        "id": "B_9Sp45uU-d_",
        "outputId": "f22c8181-04e9-4c42-fc23-a313fd1893f8",
        "colab": {
          "base_uri": "https://localhost:8080/"
        }
      },
      "execution_count": null,
      "outputs": [
        {
          "output_type": "execute_result",
          "data": {
            "text/plain": [
              "int"
            ]
          },
          "metadata": {},
          "execution_count": 10
        }
      ]
    },
    {
      "cell_type": "code",
      "source": [
        "len(img)"
      ],
      "metadata": {
        "trusted": true,
        "id": "dtQoavB_U-d_",
        "outputId": "80a35ee9-1d97-44e4-947e-b17ae2175f1b",
        "colab": {
          "base_uri": "https://localhost:8080/"
        }
      },
      "execution_count": null,
      "outputs": [
        {
          "output_type": "execute_result",
          "data": {
            "text/plain": [
              "2304"
            ]
          },
          "metadata": {},
          "execution_count": 11
        }
      ]
    },
    {
      "cell_type": "code",
      "source": [
        "img = np.array(img)"
      ],
      "metadata": {
        "trusted": true,
        "id": "mTuhEf0MU-d_"
      },
      "execution_count": null,
      "outputs": []
    },
    {
      "cell_type": "code",
      "source": [
        "img = img.reshape(48,48)"
      ],
      "metadata": {
        "trusted": true,
        "id": "q7zpSPgpU-d_"
      },
      "execution_count": null,
      "outputs": []
    },
    {
      "cell_type": "code",
      "source": [
        "img.shape"
      ],
      "metadata": {
        "trusted": true,
        "id": "1XFLpSo5U-d_",
        "outputId": "70105d64-8851-4f33-d863-0d2eaa528676",
        "colab": {
          "base_uri": "https://localhost:8080/"
        }
      },
      "execution_count": null,
      "outputs": [
        {
          "output_type": "execute_result",
          "data": {
            "text/plain": [
              "(48, 48)"
            ]
          },
          "metadata": {},
          "execution_count": 14
        }
      ]
    },
    {
      "cell_type": "code",
      "source": [
        "plt.imshow(img, cmap='gray')\n",
        "plt.xlabel(df.iloc[0]['emotion'])"
      ],
      "metadata": {
        "trusted": true,
        "id": "Ah3-Vq9zU-d_",
        "outputId": "8cee9f3a-d47b-4d87-f709-09b86cdb0b4e",
        "colab": {
          "base_uri": "https://localhost:8080/",
          "height": 469
        }
      },
      "execution_count": null,
      "outputs": [
        {
          "output_type": "execute_result",
          "data": {
            "text/plain": [
              "Text(0.5, 0, '0')"
            ]
          },
          "metadata": {},
          "execution_count": 15
        },
        {
          "output_type": "display_data",
          "data": {
            "text/plain": [
              "<Figure size 640x480 with 1 Axes>"
            ],
            "image/png": "[encoded data removed]"
          },
          "metadata": {}
        }
      ]
    },
    {
      "cell_type": "code",
      "source": [
        "X = []\n",
        "y = []"
      ],
      "metadata": {
        "trusted": true,
        "id": "PLRhqMeWU-d_"
      },
      "execution_count": null,
      "outputs": []
    },
    {
      "cell_type": "code",
      "source": [
        "def getData(path):\n",
        "    anger = 0\n",
        "    fear = 0\n",
        "    sad = 0\n",
        "    happy = 0\n",
        "    surprise = 0\n",
        "    neutral = 0\n",
        "    df = pd.read_csv(path)\n",
        "\n",
        "    X = []\n",
        "    y = []\n",
        "\n",
        "    for i in range(len(df)):\n",
        "        if df.iloc[i]['emotion'] != 1:\n",
        "            if df.iloc[i]['emotion'] == 0:\n",
        "                if anger <= 4000:\n",
        "                    y.append(df.iloc[i]['emotion'])\n",
        "                    im = df.iloc[i]['pixels']\n",
        "                    im = [int(x) for x in im.split()]\n",
        "                    X.append(im)\n",
        "                    anger += 1\n",
        "                else:\n",
        "                    pass\n",
        "\n",
        "            if df.iloc[i]['emotion'] == 2:\n",
        "                if fear <= 4000:\n",
        "                    y.append(df.iloc[i]['emotion'])\n",
        "                    im = df.iloc[i]['pixels']\n",
        "                    im = [int(x) for x in im.split()]\n",
        "                    X.append(im)\n",
        "                    fear += 1\n",
        "                else:\n",
        "                    pass\n",
        "\n",
        "            if df.iloc[i]['emotion'] == 3:\n",
        "                if happy <= 4000:\n",
        "                    y.append(df.iloc[i]['emotion'])\n",
        "                    im = df.iloc[i]['pixels']\n",
        "                    im = [int(x) for x in im.split()]\n",
        "                    X.append(im)\n",
        "                    happy += 1\n",
        "                else:\n",
        "                    pass\n",
        "\n",
        "            if df.iloc[i]['emotion'] == 4:\n",
        "                if sad <= 4000:\n",
        "                    y.append(df.iloc[i]['emotion'])\n",
        "                    im = df.iloc[i]['pixels']\n",
        "                    im = [int(x) for x in im.split()]\n",
        "                    X.append(im)\n",
        "                    sad += 1\n",
        "                else:\n",
        "                    pass\n",
        "\n",
        "            if df.iloc[i]['emotion'] == 5:\n",
        "                if surprise <= 4000:\n",
        "                    y.append(df.iloc[i]['emotion'])\n",
        "                    im = df.iloc[i]['pixels']\n",
        "                    im = [int(x) for x in im.split()]\n",
        "                    X.append(im)\n",
        "                    surprise += 1\n",
        "                else:\n",
        "                    pass\n",
        "\n",
        "            if df.iloc[i]['emotion'] == 6:\n",
        "                if neutral <= 4000:\n",
        "                    y.append(df.iloc[i]['emotion'])\n",
        "                    im = df.iloc[i]['pixels']\n",
        "                    im = [int(x) for x in im.split()]\n",
        "                    X.append(im)\n",
        "                    neutral += 1\n",
        "                else:\n",
        "                    pass\n",
        "\n",
        "\n",
        "\n",
        "    return X, y\n"
      ],
      "metadata": {
        "trusted": true,
        "id": "8mYq5gT3U-d_"
      },
      "execution_count": null,
      "outputs": []
    },
    {
      "cell_type": "code",
      "source": [
        "X, y = getData('../input/facial-expression/fer2013.csv')"
      ],
      "metadata": {
        "trusted": true,
        "id": "faBnnDICU-d_"
      },
      "execution_count": null,
      "outputs": []
    },
    {
      "cell_type": "code",
      "source": [
        "np.unique(y, return_counts=True)"
      ],
      "metadata": {
        "trusted": true,
        "id": "FM-3oyMGU-d_",
        "outputId": "aaac0819-3266-4f29-8059-658dedeb4cef",
        "colab": {
          "base_uri": "https://localhost:8080/"
        }
      },
      "execution_count": null,
      "outputs": [
        {
          "output_type": "execute_result",
          "data": {
            "text/plain": [
              "(array([0, 2, 3, 4, 5, 6]), array([4001, 4001, 4001, 4001, 4001, 4001]))"
            ]
          },
          "metadata": {},
          "execution_count": 19
        }
      ]
    },
    {
      "cell_type": "code",
      "source": [
        "X = np.array(X)/255.0\n",
        "y = np.array(y)"
      ],
      "metadata": {
        "trusted": true,
        "id": "9rcj_c9_U-d_"
      },
      "execution_count": null,
      "outputs": []
    },
    {
      "cell_type": "code",
      "source": [
        "X.shape, y.shape"
      ],
      "metadata": {
        "trusted": true,
        "id": "zTRvDj3ZU-d_",
        "outputId": "0522bb29-dab3-449a-ad26-9651c43b3770",
        "colab": {
          "base_uri": "https://localhost:8080/"
        }
      },
      "execution_count": null,
      "outputs": [
        {
          "output_type": "execute_result",
          "data": {
            "text/plain": [
              "((24006, 2304), (24006,))"
            ]
          },
          "metadata": {},
          "execution_count": 21
        }
      ]
    },
    {
      "cell_type": "code",
      "source": [
        "y_o = []\n",
        "for i in y:\n",
        "    if i != 6:\n",
        "        y_o.append(i)\n",
        "\n",
        "    else:\n",
        "        y_o.append(1)"
      ],
      "metadata": {
        "trusted": true,
        "id": "tb1c-zIZU-eA"
      },
      "execution_count": null,
      "outputs": []
    },
    {
      "cell_type": "code",
      "source": [
        "np.unique(y_o, return_counts=True)"
      ],
      "metadata": {
        "trusted": true,
        "id": "qmD9rLLdU-eA",
        "outputId": "237e1f21-20c9-43dd-f849-37879a45562f",
        "colab": {
          "base_uri": "https://localhost:8080/"
        }
      },
      "execution_count": null,
      "outputs": [
        {
          "output_type": "execute_result",
          "data": {
            "text/plain": [
              "(array([0, 1, 2, 3, 4, 5]), array([4001, 4001, 4001, 4001, 4001, 4001]))"
            ]
          },
          "metadata": {},
          "execution_count": 23
        }
      ]
    },
    {
      "cell_type": "code",
      "source": [
        "for i in range(5):\n",
        "    r = np.random.randint((1), 24000, 1)[0]\n",
        "    plt.figure()\n",
        "    plt.imshow(X[r].reshape(48,48), cmap='gray')\n",
        "    plt.xlabel(label_map[y_o[r]])"
      ],
      "metadata": {
        "trusted": true,
        "id": "rDRHwAV3U-eA",
        "outputId": "6f2f57ff-02a5-4541-cdee-54b0235ddfbc",
        "colab": {
          "base_uri": "https://localhost:8080/",
          "height": 1000
        }
      },
      "execution_count": null,
      "outputs": [
        {
          "output_type": "display_data",
          "data": {
            "text/plain": [
              "<Figure size 640x480 with 1 Axes>"
            ],
            "image/png": "[encoded data removed]"
          },
          "metadata": {}
        },
        {
          "output_type": "display_data",
          "data": {
            "text/plain": [
              "<Figure size 640x480 with 1 Axes>"
            ],
            "image/png": "[encoded data removed]"
          },
          "metadata": {}
        },
        {
          "output_type": "display_data",
          "data": {
            "text/plain": [
              "<Figure size 640x480 with 1 Axes>"
            ],
            "image/png": "[encoded data removed]"
          },
          "metadata": {}
        },
        {
          "output_type": "display_data",
          "data": {
            "text/plain": [
              "<Figure size 640x480 with 1 Axes>"
            ],
            "image/png": "[encoded data removed]"
          },
          "metadata": {}
        },
        {
          "output_type": "display_data",
          "data": {
            "text/plain": [
              "<Figure size 640x480 with 1 Axes>"
            ],
            "image/png": "[encoded data removed]"
          },
          "metadata": {}
        }
      ]
    },
    {
      "cell_type": "code",
      "source": [
        "X = X.reshape(len(X), 48, 48, 1)"
      ],
      "metadata": {
        "trusted": true,
        "id": "w0Of_LgqU-eA"
      },
      "execution_count": null,
      "outputs": []
    },
    {
      "cell_type": "code",
      "source": [
        "# no_of_images, height, width, coloar_map"
      ],
      "metadata": {
        "trusted": true,
        "id": "cCMZJhGDU-eA"
      },
      "execution_count": null,
      "outputs": []
    },
    {
      "cell_type": "code",
      "source": [
        "X.shape"
      ],
      "metadata": {
        "trusted": true,
        "id": "KxHbP9GYU-eA",
        "outputId": "b5413be7-e8e0-4cf7-f49e-dc860273b188",
        "colab": {
          "base_uri": "https://localhost:8080/"
        }
      },
      "execution_count": null,
      "outputs": [
        {
          "output_type": "execute_result",
          "data": {
            "text/plain": [
              "(24006, 48, 48, 1)"
            ]
          },
          "metadata": {},
          "execution_count": 27
        }
      ]
    },
    {
      "cell_type": "code",
      "source": [
        "from keras.utils import to_categorical\n",
        "y_new = to_categorical(y_o, num_classes=6)"
      ],
      "metadata": {
        "trusted": true,
        "id": "RK94Ib-2U-eA"
      },
      "execution_count": null,
      "outputs": []
    },
    {
      "cell_type": "code",
      "source": [
        "len(y_o), y_new.shape"
      ],
      "metadata": {
        "trusted": true,
        "id": "dE6app1SU-eB",
        "outputId": "15942281-8ddd-4c61-8e1e-1cbf07d1a8f6",
        "colab": {
          "base_uri": "https://localhost:8080/"
        }
      },
      "execution_count": null,
      "outputs": [
        {
          "output_type": "execute_result",
          "data": {
            "text/plain": [
              "(24006, (24006, 6))"
            ]
          },
          "metadata": {},
          "execution_count": 29
        }
      ]
    },
    {
      "cell_type": "code",
      "source": [
        "y_o[150], y_new[150]"
      ],
      "metadata": {
        "trusted": true,
        "id": "_GZj3oEjU-eB",
        "outputId": "ccf0c9ff-1100-4f1b-85d5-05a375d84a0e",
        "colab": {
          "base_uri": "https://localhost:8080/"
        }
      },
      "execution_count": null,
      "outputs": [
        {
          "output_type": "execute_result",
          "data": {
            "text/plain": [
              "(0, array([1., 0., 0., 0., 0., 0.], dtype=float32))"
            ]
          },
          "metadata": {},
          "execution_count": 30
        }
      ]
    },
    {
      "cell_type": "code",
      "source": [
        "from keras.models import Sequential\n",
        "from keras.layers import Dense, Activation, Dropout, Flatten, Conv2D, MaxPooling2D,BatchNormalization\n",
        "from keras.metrics import categorical_accuracy\n",
        "from keras.models import model_from_json\n",
        "from keras.callbacks import ModelCheckpoint\n",
        "from keras.optimizers import *"
      ],
      "metadata": {
        "trusted": true,
        "id": "5jJ9Ql9ZU-eB"
      },
      "execution_count": null,
      "outputs": []
    },
    {
      "cell_type": "code",
      "source": [
        "model = Sequential()\n",
        "\n",
        "\n",
        "input_shape = (48,48,1)\n",
        "\n",
        "\n",
        "model.add(Conv2D(64, (5, 5), input_shape=input_shape,activation='relu', padding='same'))\n",
        "model.add(Conv2D(64, (5, 5), padding='same'))\n",
        "model.add(BatchNormalization())\n",
        "model.add(Activation('relu'))\n",
        "model.add(MaxPooling2D(pool_size=(2, 2)))\n",
        "\n",
        "\n",
        "model.add(Conv2D(128, (5, 5),activation='relu',padding='same'))\n",
        "model.add(Conv2D(128, (5, 5),padding='same'))\n",
        "model.add(BatchNormalization())\n",
        "model.add(Activation('relu'))\n",
        "model.add(MaxPooling2D(pool_size=(2, 2)))\n",
        "\n",
        "model.add(Conv2D(256, (3, 3),activation='relu',padding='same'))\n",
        "model.add(Conv2D(256, (3, 3),activation='relu',padding='same'))\n",
        "model.add(BatchNormalization())\n",
        "model.add(MaxPooling2D(pool_size=(2, 2)))\n",
        "\n",
        "## (15, 15) --->  30\n",
        "model.add(Flatten())\n",
        "model.add(Dense(6, activation='softmax'))\n",
        "\n",
        "model.compile(loss='categorical_crossentropy', metrics=['accuracy'],optimizer='adam')"
      ],
      "metadata": {
        "trusted": true,
        "id": "KqTQrwy-U-eB"
      },
      "execution_count": null,
      "outputs": []
    },
    {
      "cell_type": "code",
      "source": [
        "model.fit(X, y_new, epochs=22, batch_size=64, shuffle=True, validation_split=0.2)"
      ],
      "metadata": {
        "trusted": true,
        "id": "H7E4yZzjU-eB",
        "outputId": "00115ff6-4800-460a-aa15-e6e00eaa03fb",
        "colab": {
          "base_uri": "https://localhost:8080/"
        }
      },
      "execution_count": null,
      "outputs": [
        {
          "output_type": "stream",
          "name": "stdout",
          "text": [
            "Epoch 1/22\n",
            "301/301 [==============================] - 21s 43ms/step - loss: 2.1266 - accuracy: 0.2485 - val_loss: 2.0693 - val_accuracy: 0.1183\n",
            "Epoch 2/22\n",
            "301/301 [==============================] - 12s 39ms/step - loss: 1.6722 - accuracy: 0.3439 - val_loss: 1.4512 - val_accuracy: 0.4334\n",
            "Epoch 3/22\n",
            "301/301 [==============================] - 11s 37ms/step - loss: 1.5249 - accuracy: 0.4002 - val_loss: 1.7569 - val_accuracy: 0.4138\n",
            "Epoch 4/22\n",
            "301/301 [==============================] - 11s 37ms/step - loss: 1.3962 - accuracy: 0.4589 - val_loss: 1.7925 - val_accuracy: 0.3313\n",
            "Epoch 5/22\n",
            "301/301 [==============================] - 11s 37ms/step - loss: 1.3265 - accuracy: 0.4850 - val_loss: 2.3960 - val_accuracy: 0.2118\n",
            "Epoch 6/22\n",
            "301/301 [==============================] - 11s 36ms/step - loss: 1.2478 - accuracy: 0.5182 - val_loss: 1.5210 - val_accuracy: 0.4436\n",
            "Epoch 7/22\n",
            "301/301 [==============================] - 11s 36ms/step - loss: 1.1775 - accuracy: 0.5473 - val_loss: 1.3423 - val_accuracy: 0.5137\n",
            "Epoch 8/22\n",
            "301/301 [==============================] - 11s 38ms/step - loss: 1.1047 - accuracy: 0.5767 - val_loss: 1.7507 - val_accuracy: 0.3469\n",
            "Epoch 9/22\n",
            "301/301 [==============================] - 11s 38ms/step - loss: 1.0398 - accuracy: 0.6045 - val_loss: 1.8666 - val_accuracy: 0.3469\n",
            "Epoch 10/22\n",
            "301/301 [==============================] - 12s 38ms/step - loss: 0.9733 - accuracy: 0.6314 - val_loss: 1.5390 - val_accuracy: 0.4517\n",
            "Epoch 11/22\n",
            "301/301 [==============================] - 12s 39ms/step - loss: 0.8924 - accuracy: 0.6626 - val_loss: 1.1517 - val_accuracy: 0.5596\n",
            "Epoch 12/22\n",
            "301/301 [==============================] - 11s 37ms/step - loss: 0.8190 - accuracy: 0.6915 - val_loss: 1.3235 - val_accuracy: 0.5446\n",
            "Epoch 13/22\n",
            "301/301 [==============================] - 12s 39ms/step - loss: 0.7083 - accuracy: 0.7404 - val_loss: 1.3126 - val_accuracy: 0.5585\n",
            "Epoch 14/22\n",
            "301/301 [==============================] - 11s 37ms/step - loss: 0.6004 - accuracy: 0.7756 - val_loss: 1.6676 - val_accuracy: 0.5196\n",
            "Epoch 15/22\n",
            "301/301 [==============================] - 12s 39ms/step - loss: 0.4756 - accuracy: 0.8290 - val_loss: 2.8884 - val_accuracy: 0.4169\n",
            "Epoch 16/22\n",
            "301/301 [==============================] - 12s 39ms/step - loss: 0.3911 - accuracy: 0.8573 - val_loss: 1.8918 - val_accuracy: 0.5256\n",
            "Epoch 17/22\n",
            "301/301 [==============================] - 11s 37ms/step - loss: 0.2859 - accuracy: 0.8992 - val_loss: 2.1190 - val_accuracy: 0.5425\n",
            "Epoch 18/22\n",
            "301/301 [==============================] - 12s 38ms/step - loss: 0.2018 - accuracy: 0.9336 - val_loss: 1.9954 - val_accuracy: 0.5562\n",
            "Epoch 19/22\n",
            "301/301 [==============================] - 12s 39ms/step - loss: 0.1543 - accuracy: 0.9504 - val_loss: 2.6192 - val_accuracy: 0.5146\n",
            "Epoch 20/22\n",
            "301/301 [==============================] - 12s 39ms/step - loss: 0.2018 - accuracy: 0.9312 - val_loss: 2.8230 - val_accuracy: 0.5108\n",
            "Epoch 21/22\n",
            "301/301 [==============================] - 11s 37ms/step - loss: 0.1279 - accuracy: 0.9601 - val_loss: 2.5545 - val_accuracy: 0.5383\n",
            "Epoch 22/22\n",
            "301/301 [==============================] - 12s 38ms/step - loss: 0.0969 - accuracy: 0.9733 - val_loss: 2.4639 - val_accuracy: 0.5646\n"
          ]
        },
        {
          "output_type": "execute_result",
          "data": {
            "text/plain": [
              "<keras.src.callbacks.History at 0x79def72fb640>"
            ]
          },
          "metadata": {},
          "execution_count": 33
        }
      ]
    },
    {
      "cell_type": "code",
      "source": [
        "import keras\n",
        "model.save('model2.h5')\n",
        "model.save('my_model.keras')"
      ],
      "metadata": {
        "trusted": true,
        "id": "GJJBAYmjU-eB",
        "colab": {
          "base_uri": "https://localhost:8080/"
        },
        "outputId": "245ec7de-6d8b-4fd8-e468-be4d41ea5bb8"
      },
      "execution_count": null,
      "outputs": [
        {
          "output_type": "stream",
          "name": "stderr",
          "text": [
            "/usr/local/lib/python3.10/dist-packages/keras/src/engine/training.py:3103: UserWarning: You are saving your model as an HDF5 file via `model.save()`. This file format is considered legacy. We recommend using instead the native Keras format, e.g. `model.save('my_model.keras')`.\n",
            "  saving_api.save_model(\n"
          ]
        }
      ]
    },
    {
      "cell_type": "code",
      "source": [
        "import cv2\n",
        "from keras.models import load_model\n",
        "model = load_model('/content/my_model.keras')"
      ],
      "metadata": {
        "trusted": true,
        "id": "xuY2KbolU-eB"
      },
      "execution_count": null,
      "outputs": []
    },
    {
      "cell_type": "code",
      "source": [],
      "metadata": {
        "id": "jcq79j2jk5l8"
      },
      "execution_count": null,
      "outputs": []
    },
    {
      "cell_type": "code",
      "source": [
        "test_img = cv2.imread('/content/05-12-21-happy-people.jpg', 0)"
      ],
      "metadata": {
        "trusted": true,
        "id": "nARfTpG8U-eB"
      },
      "execution_count": null,
      "outputs": []
    },
    {
      "cell_type": "code",
      "source": [
        "test_img.shape"
      ],
      "metadata": {
        "trusted": true,
        "id": "_8N2vLDhU-eB",
        "outputId": "9d147728-5262-4b90-da24-a4a41f548655",
        "colab": {
          "base_uri": "https://localhost:8080/",
          "height": 179
        }
      },
      "execution_count": null,
      "outputs": [
        {
          "output_type": "error",
          "ename": "AttributeError",
          "evalue": "'NoneType' object has no attribute 'shape'",
          "traceback": [
            "\u001b[0;31m---------------------------------------------------------------------------\u001b[0m",
            "\u001b[0;31mAttributeError\u001b[0m                            Traceback (most recent call last)",
            "\u001b[0;32m<ipython-input-37-43b7d65e97b3>\u001b[0m in \u001b[0;36m<cell line: 1>\u001b[0;34m()\u001b[0m\n\u001b[0;32m----> 1\u001b[0;31m \u001b[0mtest_img\u001b[0m\u001b[0;34m.\u001b[0m\u001b[0mshape\u001b[0m\u001b[0;34m\u001b[0m\u001b[0;34m\u001b[0m\u001b[0m\n\u001b[0m",
            "\u001b[0;31mAttributeError\u001b[0m: 'NoneType' object has no attribute 'shape'"
          ]
        }
      ]
    },
    {
      "cell_type": "code",
      "source": [
        "test_img = cv2.resize(test_img, (48,48))\n",
        "test_img.shape"
      ],
      "metadata": {
        "trusted": true,
        "id": "tceql7H3U-eB"
      },
      "execution_count": null,
      "outputs": []
    },
    {
      "cell_type": "code",
      "source": [
        "test_img = test_img.reshape(1,48,48,1)"
      ],
      "metadata": {
        "trusted": true,
        "id": "u992NtiBU-eB"
      },
      "execution_count": null,
      "outputs": []
    },
    {
      "cell_type": "code",
      "source": [
        "prediction=model.predict(test_img)\n",
        "prediction"
      ],
      "metadata": {
        "trusted": true,
        "id": "puooNpjtU-eF"
      },
      "execution_count": null,
      "outputs": []
    },
    {
      "cell_type": "code",
      "source": [
        "label_map = ['Anger', 'Neutral', 'Fear', 'Happy', 'Sad', 'Surprise']"
      ],
      "metadata": {
        "trusted": true,
        "id": "2t0Ei6wXU-eF"
      },
      "execution_count": null,
      "outputs": []
    },
    {
      "cell_type": "code",
      "source": [
        "prediction=np.argmax(prediction)\n",
        "print(label_map[prediction])"
      ],
      "metadata": {
        "id": "gQucRCkhZcYL"
      },
      "execution_count": null,
      "outputs": []
    }
  ]
}